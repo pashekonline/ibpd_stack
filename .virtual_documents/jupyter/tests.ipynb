import jwt_gen
import requests
import time


esfm_headers = {"Authorization": f"Bearer {jwt_gen.generate('tr_ibd_esfm')}"}
ocn_headers = {"Authorization": f"Bearer {jwt_gen.generate('tr_ibd_ocn')}"}
server = 'http://localhost/ibpd-rest-api/'


# while True:
#     response = requests.get(f'{server}/distributors_vw', headers = ocn_headers, verify = False)
#     if response.status_code != 200:
#         print('error')
#     time.sleep(1)


payload = {"did":3, "name": "Universal"}
response = requests.get(f'{server}', json = payload, headers = ocn_headers, verify = False)


response.status_code


response.text


payload = {"did":3, "name": "Universal"}
response = requests.post(f'{server}/distributors', json = payload, headers = ocn_headers, verify = False)


response.status_code


response.text






