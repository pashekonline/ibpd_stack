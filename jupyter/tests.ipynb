{
 "cells": [
  {
   "cell_type": "code",
   "execution_count": 50,
   "id": "9c108724-02d4-408e-8dcc-0af58c0ad4c5",
   "metadata": {},
   "outputs": [],
   "source": [
    "import jwt_gen\n",
    "import requests"
   ]
  },
  {
   "cell_type": "code",
   "execution_count": 51,
   "id": "f37e2624-095d-4701-970f-91636ae77013",
   "metadata": {},
   "outputs": [],
   "source": [
    "esfm_headers = {\"Authorization\": f\"Bearer {jwt_gen.generate('tr_ibd_esfm')}\"}\n",
    "ocn_headers = {\"Authorization\": f\"Bearer {jwt_gen.generate('tr_ibd_ocn')}\"}\n",
    "server = 'http://localhost/ibpd-rest-api/'"
   ]
  },
  {
   "cell_type": "code",
   "execution_count": 52,
   "id": "cecf9344-f8da-464a-b8f5-1fb27b85c48e",
   "metadata": {},
   "outputs": [],
   "source": [
    "response = requests.get(f'{server}/distributors_vw', headers = ocn_headers, verify = False)"
   ]
  },
  {
   "cell_type": "code",
   "execution_count": 53,
   "id": "96dea32a-56de-41c6-84c2-4a67433006f8",
   "metadata": {},
   "outputs": [
    {
     "data": {
      "text/plain": [
       "200"
      ]
     },
     "execution_count": 53,
     "metadata": {},
     "output_type": "execute_result"
    }
   ],
   "source": [
    "response.status_code"
   ]
  },
  {
   "cell_type": "code",
   "execution_count": 54,
   "id": "e011634f-12ef-4654-99ad-e8b7fd139c7e",
   "metadata": {},
   "outputs": [
    {
     "data": {
      "text/plain": [
       "'[{\"did\":1,\"name\":\"Paramount\"}, \\n {\"did\":2,\"name\":\"20 Century Fox\"}]'"
      ]
     },
     "execution_count": 54,
     "metadata": {},
     "output_type": "execute_result"
    }
   ],
   "source": [
    "response.text"
   ]
  },
  {
   "cell_type": "raw",
   "id": "c8e05ec9-05d9-4570-9cea-8cad3b353f4c",
   "metadata": {},
   "source": []
  },
  {
   "cell_type": "code",
   "execution_count": null,
   "id": "ab7f71ba-9b8c-4f7e-a976-07548745cd8d",
   "metadata": {},
   "outputs": [],
   "source": []
  }
 ],
 "metadata": {
  "kernelspec": {
   "display_name": "Python 3 (ipykernel)",
   "language": "python",
   "name": "python3"
  },
  "language_info": {
   "codemirror_mode": {
    "name": "ipython",
    "version": 3
   },
   "file_extension": ".py",
   "mimetype": "text/x-python",
   "name": "python",
   "nbconvert_exporter": "python",
   "pygments_lexer": "ipython3",
   "version": "3.12.4"
  }
 },
 "nbformat": 4,
 "nbformat_minor": 5
}
