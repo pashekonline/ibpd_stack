{
 "cells": [
  {
   "cell_type": "code",
   "execution_count": 3,
   "id": "9c108724-02d4-408e-8dcc-0af58c0ad4c5",
   "metadata": {},
   "outputs": [],
   "source": [
    "import jwt_gen\n",
    "import requests"
   ]
  },
  {
   "cell_type": "code",
   "execution_count": 11,
   "id": "f37e2624-095d-4701-970f-91636ae77013",
   "metadata": {},
   "outputs": [],
   "source": [
    "esfm_headers = {\"Authorization\": f\"Bearer {jwt_gen.generate('tr_ibd_esfm')}\"}\n",
    "ocn_headers = {\"Authorization\": f\"Bearer {jwt_gen.generate('tr_ibd_ocn')}\"}\n",
    "server = 'http://localhost/ibpd-rest-api/'"
   ]
  },
  {
   "cell_type": "code",
   "execution_count": 20,
   "id": "cecf9344-f8da-464a-b8f5-1fb27b85c48e",
   "metadata": {},
   "outputs": [],
   "source": [
    "response = requests.get(f'{server}films_vw', headers = esfm_headers, verify = False)"
   ]
  },
  {
   "cell_type": "code",
   "execution_count": 21,
   "id": "96dea32a-56de-41c6-84c2-4a67433006f8",
   "metadata": {},
   "outputs": [
    {
     "data": {
      "text/plain": [
       "500"
      ]
     },
     "execution_count": 21,
     "metadata": {},
     "output_type": "execute_result"
    }
   ],
   "source": [
    "response.status_code"
   ]
  },
  {
   "cell_type": "code",
   "execution_count": 22,
   "id": "e011634f-12ef-4654-99ad-e8b7fd139c7e",
   "metadata": {},
   "outputs": [
    {
     "data": {
      "text/plain": [
       "'{\"code\":\"PGRST300\",\"details\":null,\"hint\":null,\"message\":\"Server lacks JWT secret\"}'"
      ]
     },
     "execution_count": 22,
     "metadata": {},
     "output_type": "execute_result"
    }
   ],
   "source": [
    "response.text"
   ]
  },
  {
   "cell_type": "code",
   "execution_count": null,
   "id": "a9de7dd1-d270-4f3b-893a-5c23155fe09e",
   "metadata": {},
   "outputs": [],
   "source": []
  }
 ],
 "metadata": {
  "kernelspec": {
   "display_name": "Python 3 (ipykernel)",
   "language": "python",
   "name": "python3"
  },
  "language_info": {
   "codemirror_mode": {
    "name": "ipython",
    "version": 3
   },
   "file_extension": ".py",
   "mimetype": "text/x-python",
   "name": "python",
   "nbconvert_exporter": "python",
   "pygments_lexer": "ipython3",
   "version": "3.12.4"
  }
 },
 "nbformat": 4,
 "nbformat_minor": 5
}
