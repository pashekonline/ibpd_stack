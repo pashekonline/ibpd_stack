{
 "cells": [
  {
   "cell_type": "code",
   "execution_count": 130,
   "id": "9c108724-02d4-408e-8dcc-0af58c0ad4c5",
   "metadata": {},
   "outputs": [],
   "source": [
    "import jwt_gen\n",
    "import requests\n",
    "import time"
   ]
  },
  {
   "cell_type": "code",
   "execution_count": 131,
   "id": "f37e2624-095d-4701-970f-91636ae77013",
   "metadata": {},
   "outputs": [],
   "source": [
    "esfm_headers = {\"Authorization\": f\"Bearer {jwt_gen.generate('tr_ibd_esfm')}\"}\n",
    "ocn_headers = {\"Authorization\": f\"Bearer {jwt_gen.generate('tr_ibd_ocn')}\"}\n",
    "server = 'http://localhost/ibpd-rest-api/'"
   ]
  },
  {
   "cell_type": "code",
   "execution_count": null,
   "id": "cecf9344-f8da-464a-b8f5-1fb27b85c48e",
   "metadata": {
    "scrolled": true
   },
   "outputs": [],
   "source": [
    "while True:\n",
    "    response = requests.get(f'{server}/distributors_vw', headers = ocn_headers, verify = False)\n",
    "    if response.status_code != 200:\n",
    "        print('error')\n",
    "    time.sleep(1)"
   ]
  },
  {
   "cell_type": "code",
   "execution_count": null,
   "id": "96dea32a-56de-41c6-84c2-4a67433006f8",
   "metadata": {},
   "outputs": [],
   "source": [
    "response.status_code"
   ]
  },
  {
   "cell_type": "code",
   "execution_count": null,
   "id": "e011634f-12ef-4654-99ad-e8b7fd139c7e",
   "metadata": {},
   "outputs": [],
   "source": [
    "response.text"
   ]
  },
  {
   "cell_type": "code",
   "execution_count": 98,
   "id": "5ade834b-58cd-4236-a230-1fc0f7782587",
   "metadata": {},
   "outputs": [
    {
     "data": {
      "text/plain": [
       "'jwt;dur=0.9, parse;dur=0.5, plan;dur=0.1, transaction;dur=4.1, response;dur=0.0'"
      ]
     },
     "execution_count": 98,
     "metadata": {},
     "output_type": "execute_result"
    }
   ],
   "source": [
    "response.headers['Server-Timing']"
   ]
  },
  {
   "cell_type": "code",
   "execution_count": null,
   "id": "ab7f71ba-9b8c-4f7e-a976-07548745cd8d",
   "metadata": {},
   "outputs": [],
   "source": []
  }
 ],
 "metadata": {
  "kernelspec": {
   "display_name": "Python 3 (ipykernel)",
   "language": "python",
   "name": "python3"
  },
  "language_info": {
   "codemirror_mode": {
    "name": "ipython",
    "version": 3
   },
   "file_extension": ".py",
   "mimetype": "text/x-python",
   "name": "python",
   "nbconvert_exporter": "python",
   "pygments_lexer": "ipython3",
   "version": "3.12.4"
  }
 },
 "nbformat": 4,
 "nbformat_minor": 5
}
