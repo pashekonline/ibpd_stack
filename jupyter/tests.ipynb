{
 "cells": [
  {
   "cell_type": "code",
   "execution_count": 1,
   "id": "9c108724-02d4-408e-8dcc-0af58c0ad4c5",
   "metadata": {},
   "outputs": [],
   "source": [
    "import jwt_gen\n",
    "import requests\n",
    "import time"
   ]
  },
  {
   "cell_type": "code",
   "execution_count": 2,
   "id": "f37e2624-095d-4701-970f-91636ae77013",
   "metadata": {},
   "outputs": [],
   "source": [
    "esfm_headers = {\"Authorization\": f\"Bearer {jwt_gen.generate('tr_ibd_esfm')}\"}\n",
    "ocn_headers = {\"Authorization\": f\"Bearer {jwt_gen.generate('tr_ibd_ocn')}\"}\n",
    "server = 'http://localhost/ibpd-rest-api/'"
   ]
  },
  {
   "cell_type": "code",
   "execution_count": 3,
   "id": "cecf9344-f8da-464a-b8f5-1fb27b85c48e",
   "metadata": {
    "scrolled": true
   },
   "outputs": [],
   "source": [
    "# while True:\n",
    "#     response = requests.get(f'{server}/distributors_vw', headers = ocn_headers, verify = False)\n",
    "#     if response.status_code != 200:\n",
    "#         print('error')\n",
    "#     time.sleep(1)"
   ]
  },
  {
   "cell_type": "code",
   "execution_count": 13,
   "id": "f34aadd3-d360-4851-b79c-04a96a55e913",
   "metadata": {},
   "outputs": [],
   "source": [
    "payload = {\"did\":3, \"name\": \"Universal\"}\n",
    "response = requests.get(f'{server}', json = payload, headers = ocn_headers, verify = False)"
   ]
  },
  {
   "cell_type": "code",
   "execution_count": 15,
   "id": "96dea32a-56de-41c6-84c2-4a67433006f8",
   "metadata": {},
   "outputs": [
    {
     "data": {
      "text/plain": [
       "200"
      ]
     },
     "execution_count": 15,
     "metadata": {},
     "output_type": "execute_result"
    }
   ],
   "source": [
    "response.status_code"
   ]
  },
  {
   "cell_type": "code",
   "execution_count": 17,
   "id": "e011634f-12ef-4654-99ad-e8b7fd139c7e",
   "metadata": {},
   "outputs": [
    {
     "data": {
      "text/plain": [
       "'{\"swagger\":\"2.0\",\"info\":{\"description\":\"\",\"title\":\"standard public schema\",\"version\":\"12.2.3\"},\"host\":\"0.0.0.0:3001\",\"basePath\":\"/\",\"schemes\":[\"http\"],\"consumes\":[\"application/json\",\"application/vnd.pgrst.object+json;nulls=stripped\",\"application/vnd.pgrst.object+json\",\"text/csv\"],\"produces\":[\"application/json\",\"application/vnd.pgrst.object+json;nulls=stripped\",\"application/vnd.pgrst.object+json\",\"text/csv\"],\"paths\":{\"/\":{\"get\":{\"produces\":[\"application/openapi+json\",\"application/json\"],\"responses\":{\"200\":{\"description\":\"OK\"}},\"summary\":\"OpenAPI description (this document)\",\"tags\":[\"Introspection\"]}},\"/distributors_vw\":{\"get\":{\"parameters\":[{\"$ref\":\"#/parameters/rowFilter.distributors_vw.did\"},{\"$ref\":\"#/parameters/rowFilter.distributors_vw.name\"},{\"$ref\":\"#/parameters/select\"},{\"$ref\":\"#/parameters/order\"},{\"$ref\":\"#/parameters/range\"},{\"$ref\":\"#/parameters/rangeUnit\"},{\"$ref\":\"#/parameters/offset\"},{\"$ref\":\"#/parameters/limit\"},{\"$ref\":\"#/parameters/preferCount\"}],\"responses\":{\"200\":{\"description\":\"OK\",\"schema\":{\"items\":{\"$ref\":\"#/definitions/distributors_vw\"},\"type\":\"array\"}},\"206\":{\"description\":\"Partial Content\"}},\"tags\":[\"distributors_vw\"]},\"post\":{\"parameters\":[{\"$ref\":\"#/parameters/body.distributors_vw\"},{\"$ref\":\"#/parameters/select\"},{\"$ref\":\"#/parameters/preferPost\"}],\"responses\":{\"201\":{\"description\":\"Created\"}},\"tags\":[\"distributors_vw\"]},\"delete\":{\"parameters\":[{\"$ref\":\"#/parameters/rowFilter.distributors_vw.did\"},{\"$ref\":\"#/parameters/rowFilter.distributors_vw.name\"},{\"$ref\":\"#/parameters/preferReturn\"}],\"responses\":{\"204\":{\"description\":\"No Content\"}},\"tags\":[\"distributors_vw\"]},\"patch\":{\"parameters\":[{\"$ref\":\"#/parameters/rowFilter.distributors_vw.did\"},{\"$ref\":\"#/parameters/rowFilter.distributors_vw.name\"},{\"$ref\":\"#/parameters/body.distributors_vw\"},{\"$ref\":\"#/parameters/preferReturn\"}],\"responses\":{\"204\":{\"description\":\"No Content\"}},\"tags\":[\"distributors_vw\"]}},\"/distributors\":{\"get\":{\"parameters\":[{\"$ref\":\"#/parameters/rowFilter.distributors.did\"},{\"$ref\":\"#/parameters/rowFilter.distributors.name\"},{\"$ref\":\"#/parameters/select\"},{\"$ref\":\"#/parameters/order\"},{\"$ref\":\"#/parameters/range\"},{\"$ref\":\"#/parameters/rangeUnit\"},{\"$ref\":\"#/parameters/offset\"},{\"$ref\":\"#/parameters/limit\"},{\"$ref\":\"#/parameters/preferCount\"}],\"responses\":{\"200\":{\"description\":\"OK\",\"schema\":{\"items\":{\"$ref\":\"#/definitions/distributors\"},\"type\":\"array\"}},\"206\":{\"description\":\"Partial Content\"}},\"tags\":[\"distributors\"]},\"post\":{\"parameters\":[{\"$ref\":\"#/parameters/body.distributors\"},{\"$ref\":\"#/parameters/select\"},{\"$ref\":\"#/parameters/preferPost\"}],\"responses\":{\"201\":{\"description\":\"Created\"}},\"tags\":[\"distributors\"]},\"delete\":{\"parameters\":[{\"$ref\":\"#/parameters/rowFilter.distributors.did\"},{\"$ref\":\"#/parameters/rowFilter.distributors.name\"},{\"$ref\":\"#/parameters/preferReturn\"}],\"responses\":{\"204\":{\"description\":\"No Content\"}},\"tags\":[\"distributors\"]},\"patch\":{\"parameters\":[{\"$ref\":\"#/parameters/rowFilter.distributors.did\"},{\"$ref\":\"#/parameters/rowFilter.distributors.name\"},{\"$ref\":\"#/parameters/body.distributors\"},{\"$ref\":\"#/parameters/preferReturn\"}],\"responses\":{\"204\":{\"description\":\"No Content\"}},\"tags\":[\"distributors\"]}},\"/rpc/delay_fn\":{\"get\":{\"produces\":[\"application/json\",\"application/vnd.pgrst.object+json;nulls=stripped\",\"application/vnd.pgrst.object+json\"],\"responses\":{\"200\":{\"description\":\"OK\"}},\"tags\":[\"(rpc) delay_fn\"]},\"post\":{\"parameters\":[{\"in\":\"body\",\"name\":\"args\",\"required\":true,\"schema\":{\"type\":\"object\"}},{\"$ref\":\"#/parameters/preferParams\"}],\"produces\":[\"application/json\",\"application/vnd.pgrst.object+json;nulls=stripped\",\"application/vnd.pgrst.object+json\"],\"responses\":{\"200\":{\"description\":\"OK\"}},\"tags\":[\"(rpc) delay_fn\"]}},\"/rpc/set_timeout_fn\":{\"get\":{\"produces\":[\"application/json\",\"application/vnd.pgrst.object+json;nulls=stripped\",\"application/vnd.pgrst.object+json\"],\"responses\":{\"200\":{\"description\":\"OK\"}},\"tags\":[\"(rpc) set_timeout_fn\"]},\"post\":{\"parameters\":[{\"in\":\"body\",\"name\":\"args\",\"required\":true,\"schema\":{\"type\":\"object\"}},{\"$ref\":\"#/parameters/preferParams\"}],\"produces\":[\"application/json\",\"application/vnd.pgrst.object+json;nulls=stripped\",\"application/vnd.pgrst.object+json\"],\"responses\":{\"200\":{\"description\":\"OK\"}},\"tags\":[\"(rpc) set_timeout_fn\"]}}},\"definitions\":{\"distributors_vw\":{\"properties\":{\"did\":{\"description\":\"Note:\\\\nThis is a Primary Key.<pk/>\",\"format\":\"integer\",\"type\":\"integer\"},\"name\":{\"format\":\"character varying\",\"maxLength\":40,\"type\":\"string\"}},\"type\":\"object\"},\"distributors\":{\"required\":[\"did\",\"name\"],\"properties\":{\"did\":{\"description\":\"Note:\\\\nThis is a Primary Key.<pk/>\",\"format\":\"integer\",\"type\":\"integer\"},\"name\":{\"format\":\"character varying\",\"maxLength\":40,\"type\":\"string\"}},\"type\":\"object\"}},\"parameters\":{\"preferParams\":{\"name\":\"Prefer\",\"description\":\"Preference\",\"required\":false,\"enum\":[\"params=single-object\"],\"in\":\"header\",\"type\":\"string\"},\"preferReturn\":{\"name\":\"Prefer\",\"description\":\"Preference\",\"required\":false,\"enum\":[\"return=representation\",\"return=minimal\",\"return=none\"],\"in\":\"header\",\"type\":\"string\"},\"preferCount\":{\"name\":\"Prefer\",\"description\":\"Preference\",\"required\":false,\"enum\":[\"count=none\"],\"in\":\"header\",\"type\":\"string\"},\"preferPost\":{\"name\":\"Prefer\",\"description\":\"Preference\",\"required\":false,\"enum\":[\"return=representation\",\"return=minimal\",\"return=none\",\"resolution=ignore-duplicates\",\"resolution=merge-duplicates\"],\"in\":\"header\",\"type\":\"string\"},\"select\":{\"name\":\"select\",\"description\":\"Filtering Columns\",\"required\":false,\"in\":\"query\",\"type\":\"string\"},\"on_conflict\":{\"name\":\"on_conflict\",\"description\":\"On Conflict\",\"required\":false,\"in\":\"query\",\"type\":\"string\"},\"order\":{\"name\":\"order\",\"description\":\"Ordering\",\"required\":false,\"in\":\"query\",\"type\":\"string\"},\"range\":{\"name\":\"Range\",\"description\":\"Limiting and Pagination\",\"required\":false,\"in\":\"header\",\"type\":\"string\"},\"rangeUnit\":{\"name\":\"Range-Unit\",\"description\":\"Limiting and Pagination\",\"required\":false,\"default\":\"items\",\"in\":\"header\",\"type\":\"string\"},\"offset\":{\"name\":\"offset\",\"description\":\"Limiting and Pagination\",\"required\":false,\"in\":\"query\",\"type\":\"string\"},\"limit\":{\"name\":\"limit\",\"description\":\"Limiting and Pagination\",\"required\":false,\"in\":\"query\",\"type\":\"string\"},\"body.distributors_vw\":{\"name\":\"distributors_vw\",\"description\":\"distributors_vw\",\"required\":false,\"in\":\"body\",\"schema\":{\"$ref\":\"#/definitions/distributors_vw\"}},\"rowFilter.distributors_vw.did\":{\"name\":\"did\",\"required\":false,\"in\":\"query\",\"type\":\"string\"},\"rowFilter.distributors_vw.name\":{\"name\":\"name\",\"required\":false,\"in\":\"query\",\"type\":\"string\"},\"body.distributors\":{\"name\":\"distributors\",\"description\":\"distributors\",\"required\":false,\"in\":\"body\",\"schema\":{\"$ref\":\"#/definitions/distributors\"}},\"rowFilter.distributors.did\":{\"name\":\"did\",\"required\":false,\"in\":\"query\",\"type\":\"string\"},\"rowFilter.distributors.name\":{\"name\":\"name\",\"required\":false,\"in\":\"query\",\"type\":\"string\"}},\"externalDocs\":{\"description\":\"PostgREST Documentation\",\"url\":\"https://postgrest.org/en/v12/references/api.html\"}}'"
      ]
     },
     "execution_count": 17,
     "metadata": {},
     "output_type": "execute_result"
    }
   ],
   "source": [
    "response.text"
   ]
  },
  {
   "cell_type": "code",
   "execution_count": 130,
   "id": "ab7f71ba-9b8c-4f7e-a976-07548745cd8d",
   "metadata": {},
   "outputs": [],
   "source": [
    "payload = {\"did\":3, \"name\": \"Universal\"}\n",
    "response = requests.post(f'{server}/distributors', json = payload, headers = ocn_headers, verify = False)"
   ]
  },
  {
   "cell_type": "code",
   "execution_count": 131,
   "id": "6608178a-d90d-4d9c-a06b-294ac982441f",
   "metadata": {},
   "outputs": [
    {
     "data": {
      "text/plain": [
       "409"
      ]
     },
     "execution_count": 131,
     "metadata": {},
     "output_type": "execute_result"
    }
   ],
   "source": [
    "response.status_code"
   ]
  },
  {
   "cell_type": "code",
   "execution_count": 132,
   "id": "26115502-cd29-41ee-8817-5946660e7e75",
   "metadata": {},
   "outputs": [
    {
     "data": {
      "text/plain": [
       "'{\"code\":\"23505\",\"details\":null,\"hint\":null,\"message\":\"duplicate key value violates unique constraint \\\\\"distributors_pkey\\\\\"\"}'"
      ]
     },
     "execution_count": 132,
     "metadata": {},
     "output_type": "execute_result"
    }
   ],
   "source": [
    "response.text"
   ]
  },
  {
   "cell_type": "code",
   "execution_count": null,
   "id": "de245058-628b-4fd3-a3d0-c26b4a89c685",
   "metadata": {},
   "outputs": [],
   "source": []
  },
  {
   "cell_type": "code",
   "execution_count": null,
   "id": "b690b8c9-f6f6-4095-8468-284fc7d73072",
   "metadata": {},
   "outputs": [],
   "source": []
  }
 ],
 "metadata": {
  "kernelspec": {
   "display_name": "Python 3 (ipykernel)",
   "language": "python",
   "name": "python3"
  },
  "language_info": {
   "codemirror_mode": {
    "name": "ipython",
    "version": 3
   },
   "file_extension": ".py",
   "mimetype": "text/x-python",
   "name": "python",
   "nbconvert_exporter": "python",
   "pygments_lexer": "ipython3",
   "version": "3.12.4"
  }
 },
 "nbformat": 4,
 "nbformat_minor": 5
}
